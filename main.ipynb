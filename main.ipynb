{
 "cells": [
  {
   "cell_type": "code",
   "execution_count": 2,
   "metadata": {},
   "outputs": [],
   "source": [
    "import cv2\n",
    "import face_recognition"
   ]
  },
  {
   "cell_type": "code",
   "execution_count": 1,
   "metadata": {},
   "outputs": [],
   "source": [
    "import cv2\n",
    "import face_recognition\n",
    "\n",
    "# Initialize face encodings and names\n",
    "known_face_encodings = []\n",
    "known_face_names = []\n",
    "\n",
    "# Load and encode the known images\n",
    "known_person_image = face_recognition.load_image_file(r\"C:\\Users\\USER\\Desktop\\opencV\\images\\CE.jpeg\")\n",
    "known_person2_image = face_recognition.load_image_file(r\"C:\\Users\\USER\\Downloads\\King Khan.jpeg\")\n",
    "known_person3_image = face_recognition.load_image_file(r\"C:\\Users\\USER\\Desktop\\opencV\\images\\RDJ.jpeg\")\n",
    "\n",
    "known_person1_encoding = face_recognition.face_encodings(known_person_image)[0]\n",
    "known_person2_encoding = face_recognition.face_encodings(known_person2_image)[0]\n",
    "known_person3_encoding = face_recognition.face_encodings(known_person3_image)[0]\n",
    "\n",
    "# Append encodings and names\n",
    "known_face_encodings.append(known_person1_encoding)\n",
    "known_face_encodings.append(known_person2_encoding)\n",
    "known_face_encodings.append(known_person3_encoding)\n",
    "\n",
    "known_face_names.append(\"Chris Evans\")\n",
    "known_face_names.append(\"Srk\")\n",
    "known_face_names.append(\"RDJ\")\n",
    "\n",
    "# Initialize video capture\n",
    "video_capture = cv2.VideoCapture(0)\n",
    "\n",
    "while True:\n",
    "    # Capture a single frame from the video\n",
    "    ret, frame = video_capture.read()\n",
    "    \n",
    "    if not ret:\n",
    "        break\n",
    "\n",
    "    # Find all face locations and face encodings in the frame\n",
    "    face_locations = face_recognition.face_locations(frame)\n",
    "    face_encodings = face_recognition.face_encodings(frame, face_locations)\n",
    "\n",
    "    # Loop over each face found in the frame\n",
    "    for (top, right, bottom, left), face_encoding in zip(face_locations, face_encodings):\n",
    "        # Check if the face is a match for the known faces\n",
    "        matches = face_recognition.compare_faces(known_face_encodings, face_encoding)\n",
    "        name = 'Unknown'\n",
    "\n",
    "        if True in matches:\n",
    "            # Find the first match\n",
    "            first_match_index = matches.index(True)\n",
    "            name = known_face_names[first_match_index]\n",
    "\n",
    "        # Draw a rectangle around the face\n",
    "        cv2.rectangle(frame, (left, top), (right, bottom), (0, 0, 255), 2)\n",
    "\n",
    "        # Label the face with the name\n",
    "        cv2.putText(frame, name, (left, top - 10), cv2.FONT_HERSHEY_SIMPLEX, 0.9, (0, 0, 255), 2)\n",
    "\n",
    "    # Display the resulting image\n",
    "    cv2.imshow(\"Video\", frame)\n",
    "\n",
    "    # Break from the loop if 'q' key is pressed\n",
    "    if cv2.waitKey(1) & 0xFF == ord('q'):\n",
    "        break\n",
    "\n",
    "# Release video capture and close windows\n",
    "video_capture.release()\n",
    "cv2.destroyAllWindows()\n"
   ]
  }
 ],
 "metadata": {
  "kernelspec": {
   "display_name": "Python 3",
   "language": "python",
   "name": "python3"
  },
  "language_info": {
   "codemirror_mode": {
    "name": "ipython",
    "version": 3
   },
   "file_extension": ".py",
   "mimetype": "text/x-python",
   "name": "python",
   "nbconvert_exporter": "python",
   "pygments_lexer": "ipython3",
   "version": "3.11.1"
  }
 },
 "nbformat": 4,
 "nbformat_minor": 2
}
